{
 "cells": [
  {
   "cell_type": "markdown",
   "metadata": {},
   "source": [
    "## Lab Brief - Statistical Learning with Python"
   ]
  },
  {
   "cell_type": "markdown",
   "metadata": {},
   "source": [
    "### Part-1"
   ]
  },
  {
   "cell_type": "markdown",
   "metadata": {},
   "source": [
    "## Measures of Data"
   ]
  },
  {
   "cell_type": "markdown",
   "metadata": {},
   "source": [
    "Descriptive Statistcs are measures that summarize important features of data. Producing these descriptive statistics is a common first step to take after cleaning and preparing a dataset for further analysis. Examples are like calculating Mean or Median. In this lab, we will be looking into some of these functions and explore several new ones."
   ]
  },
  {
   "cell_type": "markdown",
   "metadata": {},
   "source": [
    "#### Measures of Central Tendency"
   ]
  },
  {
   "cell_type": "markdown",
   "metadata": {},
   "source": [
    "Whenever you measure things of the same kind, a fairly large number of such measurements will tend to cluster around the middle value. Such a value is called a measure of \"Central Tendency\". The other terms that are used synonymously are \"Measures of Location\", or \"Statistical Averages\". "
   ]
  },
  {
   "cell_type": "code",
   "execution_count": 17,
   "metadata": {},
   "outputs": [],
   "source": [
    "import numpy as np\n",
    "import pandas as pd\n",
    "import matplotlib.pyplot as plt\n",
    "\n",
    "mtcars = pd.read_csv('mtcars.csv')"
   ]
  },
  {
   "cell_type": "markdown",
   "metadata": {},
   "source": [
    "##### Using the mtcars dataset.\n",
    "\n",
    "For the below set of questions, we will be using the cars data from [Motor Trend Car Road Tests](http://stat.ethz.ch/R-manual/R-devel/library/datasets/html/mtcars.html)\n",
    "\n",
    "The data was extracted from the 1974 Motor Trend US magazine, and comprises fuel consumption and 10 aspects of automobile design and performance for 32 automobiles (1973–74 models). \n",
    "\n",
    "\n",
    "Details :\n",
    "    \n",
    "A data frame with 32 observations on 11 (numeric) variables.\n",
    "\n",
    "[, 1] \tmpg \tMiles/(US) gallon\n",
    "\n",
    "[, 2] \tcyl \tNumber of cylinders\n",
    "\n",
    "[, 3] \tdisp \tDisplacement (cu.in.)\n",
    "\n",
    "[, 4] \thp \tGross horsepower\n",
    "\n",
    "[, 5] \tdrat \tRear axle ratio\n",
    "\n",
    "[, 6] \twt \tWeight (1000 lbs)\n",
    "\n",
    "[, 7] \tqsec \t1/4 mile time\n",
    "\n",
    "[, 8] \tvs \tEngine (0 = V-shaped, 1 = straight)\n",
    "\n",
    "[, 9] \tam \tTransmission (0 = automatic, 1 = manual)\n",
    "\n",
    "[,10] \tgear \tNumber of forward gears\n",
    "\n",
    "[,11] \tcarb \tNumber of carburetors "
   ]
  },
  {
   "cell_type": "markdown",
   "metadata": {},
   "source": [
    "#### Explore the data - Setting the index"
   ]
  },
  {
   "cell_type": "code",
   "execution_count": 19,
   "metadata": {},
   "outputs": [
    {
     "data": {
      "text/html": [
       "<div>\n",
       "<style scoped>\n",
       "    .dataframe tbody tr th:only-of-type {\n",
       "        vertical-align: middle;\n",
       "    }\n",
       "\n",
       "    .dataframe tbody tr th {\n",
       "        vertical-align: top;\n",
       "    }\n",
       "\n",
       "    .dataframe thead th {\n",
       "        text-align: right;\n",
       "    }\n",
       "</style>\n",
       "<table border=\"1\" class=\"dataframe\">\n",
       "  <thead>\n",
       "    <tr style=\"text-align: right;\">\n",
       "      <th></th>\n",
       "      <th>name</th>\n",
       "      <th>mpg</th>\n",
       "      <th>cyl</th>\n",
       "      <th>disp</th>\n",
       "      <th>hp</th>\n",
       "      <th>drat</th>\n",
       "      <th>wt</th>\n",
       "      <th>qsec</th>\n",
       "      <th>vs</th>\n",
       "      <th>am</th>\n",
       "      <th>gear</th>\n",
       "      <th>carb</th>\n",
       "    </tr>\n",
       "    <tr>\n",
       "      <th>name</th>\n",
       "      <th></th>\n",
       "      <th></th>\n",
       "      <th></th>\n",
       "      <th></th>\n",
       "      <th></th>\n",
       "      <th></th>\n",
       "      <th></th>\n",
       "      <th></th>\n",
       "      <th></th>\n",
       "      <th></th>\n",
       "      <th></th>\n",
       "      <th></th>\n",
       "    </tr>\n",
       "  </thead>\n",
       "  <tbody>\n",
       "    <tr>\n",
       "      <th>Mazda RX4</th>\n",
       "      <td>Mazda RX4</td>\n",
       "      <td>21.0</td>\n",
       "      <td>6</td>\n",
       "      <td>160.0</td>\n",
       "      <td>110</td>\n",
       "      <td>3.90</td>\n",
       "      <td>2.620</td>\n",
       "      <td>16.46</td>\n",
       "      <td>0</td>\n",
       "      <td>1</td>\n",
       "      <td>4</td>\n",
       "      <td>4</td>\n",
       "    </tr>\n",
       "    <tr>\n",
       "      <th>Mazda RX4 Wag</th>\n",
       "      <td>Mazda RX4 Wag</td>\n",
       "      <td>21.0</td>\n",
       "      <td>6</td>\n",
       "      <td>160.0</td>\n",
       "      <td>110</td>\n",
       "      <td>3.90</td>\n",
       "      <td>2.875</td>\n",
       "      <td>17.02</td>\n",
       "      <td>0</td>\n",
       "      <td>1</td>\n",
       "      <td>4</td>\n",
       "      <td>4</td>\n",
       "    </tr>\n",
       "    <tr>\n",
       "      <th>Datsun 710</th>\n",
       "      <td>Datsun 710</td>\n",
       "      <td>22.8</td>\n",
       "      <td>4</td>\n",
       "      <td>108.0</td>\n",
       "      <td>93</td>\n",
       "      <td>3.85</td>\n",
       "      <td>2.320</td>\n",
       "      <td>18.61</td>\n",
       "      <td>1</td>\n",
       "      <td>1</td>\n",
       "      <td>4</td>\n",
       "      <td>1</td>\n",
       "    </tr>\n",
       "    <tr>\n",
       "      <th>Hornet 4 Drive</th>\n",
       "      <td>Hornet 4 Drive</td>\n",
       "      <td>21.4</td>\n",
       "      <td>6</td>\n",
       "      <td>258.0</td>\n",
       "      <td>110</td>\n",
       "      <td>3.08</td>\n",
       "      <td>3.215</td>\n",
       "      <td>19.44</td>\n",
       "      <td>1</td>\n",
       "      <td>0</td>\n",
       "      <td>3</td>\n",
       "      <td>1</td>\n",
       "    </tr>\n",
       "    <tr>\n",
       "      <th>Hornet Sportabout</th>\n",
       "      <td>Hornet Sportabout</td>\n",
       "      <td>18.7</td>\n",
       "      <td>8</td>\n",
       "      <td>360.0</td>\n",
       "      <td>175</td>\n",
       "      <td>3.15</td>\n",
       "      <td>3.440</td>\n",
       "      <td>17.02</td>\n",
       "      <td>0</td>\n",
       "      <td>0</td>\n",
       "      <td>3</td>\n",
       "      <td>2</td>\n",
       "    </tr>\n",
       "  </tbody>\n",
       "</table>\n",
       "</div>"
      ],
      "text/plain": [
       "                                name   mpg  cyl   disp   hp  drat     wt  \\\n",
       "name                                                                       \n",
       "Mazda RX4                  Mazda RX4  21.0    6  160.0  110  3.90  2.620   \n",
       "Mazda RX4 Wag          Mazda RX4 Wag  21.0    6  160.0  110  3.90  2.875   \n",
       "Datsun 710                Datsun 710  22.8    4  108.0   93  3.85  2.320   \n",
       "Hornet 4 Drive        Hornet 4 Drive  21.4    6  258.0  110  3.08  3.215   \n",
       "Hornet Sportabout  Hornet Sportabout  18.7    8  360.0  175  3.15  3.440   \n",
       "\n",
       "                    qsec  vs  am  gear  carb  \n",
       "name                                          \n",
       "Mazda RX4          16.46   0   1     4     4  \n",
       "Mazda RX4 Wag      17.02   0   1     4     4  \n",
       "Datsun 710         18.61   1   1     4     1  \n",
       "Hornet 4 Drive     19.44   1   0     3     1  \n",
       "Hornet Sportabout  17.02   0   0     3     2  "
      ]
     },
     "execution_count": 19,
     "metadata": {},
     "output_type": "execute_result"
    }
   ],
   "source": [
    "mtcars.index = mtcars[\"name\"]\n",
    "mtcars.head()\n",
    "# mtcars.mean() #By default this will give the mean of each column"
   ]
  },
  {
   "cell_type": "markdown",
   "metadata": {},
   "source": [
    "### Question 1\n",
    "\n",
    "What is the first car name given in mtcars?\n",
    "\n",
    "** Make use of index which has been set previously **\n",
    "\n",
    "**Hint**: Use .loc function\n"
   ]
  },
  {
   "cell_type": "code",
   "execution_count": 20,
   "metadata": {},
   "outputs": [
    {
     "data": {
      "text/plain": [
       "'Mazda RX4'"
      ]
     },
     "execution_count": 20,
     "metadata": {},
     "output_type": "execute_result"
    }
   ],
   "source": [
    "mtcars.loc['Mazda RX4','name']"
   ]
  },
  {
   "cell_type": "code",
   "execution_count": 21,
   "metadata": {},
   "outputs": [
    {
     "data": {
      "text/plain": [
       "'Mazda RX4'"
      ]
     },
     "execution_count": 21,
     "metadata": {},
     "output_type": "execute_result"
    }
   ],
   "source": [
    "mtcars.iloc[0,0]"
   ]
  },
  {
   "cell_type": "markdown",
   "metadata": {},
   "source": [
    "### Question 2\n",
    "What is the highest difference between the hp and cyl?\n",
    "\n",
    "**Hint:** You can use **max()** function to find the difference"
   ]
  },
  {
   "cell_type": "code",
   "execution_count": 22,
   "metadata": {},
   "outputs": [
    {
     "data": {
      "text/plain": [
       "327"
      ]
     },
     "execution_count": 22,
     "metadata": {},
     "output_type": "execute_result"
    }
   ],
   "source": [
    "max(mtcars['hp']- mtcars['cyl'])"
   ]
  },
  {
   "cell_type": "markdown",
   "metadata": {},
   "source": [
    "### Question 3\n",
    "What are the cars having highest weight(wt) and lowest weight(wt)?\n",
    "\n",
    "**Hint:** Use idxmax() and idxmin() to locate the row\n",
    "\n",
    "Use **.iloc** function to print the  row\n",
    "\n",
    "**Note:** Both idxmax and idxmin belong to pandas"
   ]
  },
  {
   "cell_type": "code",
   "execution_count": 25,
   "metadata": {},
   "outputs": [
    {
     "name": "stdout",
     "output_type": "stream",
     "text": [
      "Lincoln Continental\n",
      "Lotus Europa\n"
     ]
    }
   ],
   "source": [
    "print(mtcars['wt'].idxmax())\n",
    "print(mtcars['wt'].idxmin())"
   ]
  },
  {
   "cell_type": "markdown",
   "metadata": {},
   "source": [
    "### Question 4\n",
    "\n",
    "Find the mean of each row and each column in the given dataset.\n",
    "\n",
    "**Hint:** Use .mean() function. To operate on rows use **axis=0**, on columns use **axis=1**"
   ]
  },
  {
   "cell_type": "code",
   "execution_count": 27,
   "metadata": {},
   "outputs": [
    {
     "data": {
      "text/plain": [
       "name\n",
       "Mazda RX4              29.907273\n",
       "Mazda RX4 Wag          29.981364\n",
       "Datsun 710             23.598182\n",
       "Hornet 4 Drive         38.739545\n",
       "Hornet Sportabout      53.664545\n",
       "Valiant                35.049091\n",
       "Duster 360             59.720000\n",
       "Merc 240D              24.634545\n",
       "Merc 230               27.233636\n",
       "Merc 280               31.860000\n",
       "Merc 280C              31.787273\n",
       "Merc 450SE             46.430909\n",
       "Merc 450SL             46.500000\n",
       "Merc 450SLC            46.350000\n",
       "Cadillac Fleetwood     66.232727\n",
       "Lincoln Continental    66.058545\n",
       "Chrysler Imperial      65.972273\n",
       "Fiat 128               19.440909\n",
       "Honda Civic            17.742273\n",
       "Toyota Corolla         18.814091\n",
       "Toyota Corona          24.888636\n",
       "Dodge Challenger       47.240909\n",
       "AMC Javelin            46.007727\n",
       "Camaro Z28             58.752727\n",
       "Pontiac Firebird       57.379545\n",
       "Fiat X1-9              18.928636\n",
       "Porsche 914-2          24.779091\n",
       "Lotus Europa           24.880273\n",
       "Ford Pantera L         60.971818\n",
       "Ferrari Dino           34.508182\n",
       "Maserati Bora          63.155455\n",
       "Volvo 142E             26.262727\n",
       "dtype: float64"
      ]
     },
     "execution_count": 27,
     "metadata": {},
     "output_type": "execute_result"
    }
   ],
   "source": [
    "mtcars.mean(axis = 1)"
   ]
  },
  {
   "cell_type": "markdown",
   "metadata": {},
   "source": [
    "### Question 5\n",
    "\n",
    "Plot mpg values of mtcards dataframe using matplotlib.\n",
    "\n",
    "**Hint: Use plt.plot function**"
   ]
  },
  {
   "cell_type": "code",
   "execution_count": 28,
   "metadata": {},
   "outputs": [
    {
     "data": {
      "text/plain": [
       "[<matplotlib.lines.Line2D at 0x2bb25cf4320>]"
      ]
     },
     "execution_count": 28,
     "metadata": {},
     "output_type": "execute_result"
    },
    {
     "data": {
      "image/png": "[encoded data removed]",
      "text/plain": [
       "<Figure size 432x288 with 1 Axes>"
      ]
     },
     "metadata": {},
     "output_type": "display_data"
    }
   ],
   "source": [
    "plt.plot(mtcars['mpg'])"
   ]
  },
  {
   "cell_type": "markdown",
   "metadata": {},
   "source": [
    "## Part 2"
   ]
  },
  {
   "cell_type": "markdown",
   "metadata": {},
   "source": [
    "## Measures of Dispersion"
   ]
  },
  {
   "cell_type": "markdown",
   "metadata": {},
   "source": [
    "Measures of Dispersion (Spread) are statistics that describe how data varies. Measure of dispersion gives us the sense of how much the data tends to diverge from the central tendency."
   ]
  },
  {
   "cell_type": "markdown",
   "metadata": {},
   "source": [
    "### Question 6\n",
    "\n",
    "What the range of `mpg` in the given dataset?\n",
    "\n",
    "**Hint:** Range = max-min"
   ]
  },
  {
   "cell_type": "code",
   "execution_count": 30,
   "metadata": {},
   "outputs": [
    {
     "data": {
      "text/plain": [
       "23.5"
      ]
     },
     "execution_count": 30,
     "metadata": {},
     "output_type": "execute_result"
    }
   ],
   "source": [
    "range = max(mtcars['mpg']) - min(mtcars['mpg'])\n",
    "range"
   ]
  },
  {
   "cell_type": "markdown",
   "metadata": {},
   "source": [
    "### Question 7\n",
    "\n",
    "Calculate the 25th quantile (lower quantile)for `mpg` in the given dataset.\n",
    "\n",
    "**Hint:** Use **.quantile()**"
   ]
  },
  {
   "cell_type": "code",
   "execution_count": 31,
   "metadata": {},
   "outputs": [
    {
     "data": {
      "text/plain": [
       "15.425"
      ]
     },
     "execution_count": 31,
     "metadata": {},
     "output_type": "execute_result"
    }
   ],
   "source": [
    "mtcars['mpg'].quantile(0.25)"
   ]
  },
  {
   "cell_type": "markdown",
   "metadata": {},
   "source": [
    "### Question 8\n",
    "\n",
    "Calculate the Inter-Quartile Range(IQR) for `mpg` in the given dataset."
   ]
  },
  {
   "cell_type": "markdown",
   "metadata": {},
   "source": [
    "Interquartile range (IQR) is another common measure of spread. IQR is the distance between the 3rd quartile and the 1st quartile.\n",
    "\n",
    "**Hint:** IQR = Q3 - Q1"
   ]
  },
  {
   "cell_type": "code",
   "execution_count": 33,
   "metadata": {},
   "outputs": [
    {
     "data": {
      "text/plain": [
       "7.375"
      ]
     },
     "execution_count": 33,
     "metadata": {},
     "output_type": "execute_result"
    }
   ],
   "source": [
    "mtcars['mpg'].quantile(0.75) - mtcars['mpg'].quantile(0.25)"
   ]
  },
  {
   "cell_type": "markdown",
   "metadata": {},
   "source": [
    "### Question 9\n",
    "\n",
    "Calculate the Variance, Standard Deviation and Median Absolute Deviation for `mpg`."
   ]
  },
  {
   "cell_type": "markdown",
   "metadata": {},
   "source": [
    "Variance and Standard Deviation are two other common measure of dispersion.\n",
    "\n",
    "**Hint:** Use .var() and .std()"
   ]
  },
  {
   "cell_type": "markdown",
   "metadata": {},
   "source": [
    "**Hint:** Median Absolute Deviation - alternative measure of spread based on the median. It is the median of the absolute value of the deviations from the median. "
   ]
  },
  {
   "cell_type": "code",
   "execution_count": 34,
   "metadata": {},
   "outputs": [
    {
     "data": {
      "text/plain": [
       "36.32410282258065"
      ]
     },
     "execution_count": 34,
     "metadata": {},
     "output_type": "execute_result"
    }
   ],
   "source": [
    "mtcars['mpg'].var()"
   ]
  },
  {
   "cell_type": "code",
   "execution_count": 35,
   "metadata": {},
   "outputs": [
    {
     "data": {
      "text/plain": [
       "4.714453125"
      ]
     },
     "execution_count": 35,
     "metadata": {},
     "output_type": "execute_result"
    }
   ],
   "source": [
    "mtcars['mpg'].std()\n",
    "mtcars['mpg'].mad()"
   ]
  },
  {
   "cell_type": "markdown",
   "metadata": {},
   "source": [
    "## Part 3"
   ]
  },
  {
   "cell_type": "markdown",
   "metadata": {},
   "source": [
    "## Probability Distributions"
   ]
  },
  {
   "cell_type": "markdown",
   "metadata": {},
   "source": [
    "The probability distribution describes how a random variable is distributed. It tells us which values a variable is most likely to take on and which values are less likely to take on. "
   ]
  },
  {
   "cell_type": "markdown",
   "metadata": {},
   "source": [
    "Each value in the given range is equally likely to occur. "
   ]
  },
  {
   "cell_type": "code",
   "execution_count": 29,
   "metadata": {},
   "outputs": [],
   "source": [
    "import scipy.stats as stats # Many functions for probability distributions in python are in scipy.stats"
   ]
  },
  {
   "cell_type": "markdown",
   "metadata": {},
   "source": [
    "### Question 10\n",
    "\n",
    "Generate 1000 datapoints with standard normal distribution with mean 0 and standard deviation 1. "
   ]
  },
  {
   "cell_type": "markdown",
   "metadata": {},
   "source": [
    "#### Normal Distribution"
   ]
  },
  {
   "cell_type": "markdown",
   "metadata": {},
   "source": [
    "The normal or Gaussian Distribution is a continuos probability distribution given by a symmetric bell shaped curve. It is defined its center(mean) and spread(std)."
   ]
  },
  {
   "cell_type": "markdown",
   "metadata": {},
   "source": [
    "The bulk of the observations generated from a normal distribution lie near the mean which lies at the center. About 68% of the data lies within 1 std, 95% lies within 2 stds and 99.7% lies within 3 stds.\n",
    "\n",
    "**Hint:** You can use **np.random.normal()** function to generate normal distribution"
   ]
  },
  {
   "cell_type": "code",
   "execution_count": 36,
   "metadata": {},
   "outputs": [
    {
     "data": {
      "text/plain": [
       "array([-3.50727880e-01,  3.10941536e+00, -7.45429750e-01,  6.25765997e-01,\n",
       "        1.77271186e-01,  1.60772105e+00, -1.00801925e+00,  4.67883214e-01,\n",
       "        2.19950780e+00, -1.60572862e-03, -1.50080017e+00,  5.41183561e-01,\n",
       "       -2.42895714e-01, -5.45483327e-01,  1.05080484e+00,  1.73027400e+00,\n",
       "       -7.28623241e-01,  3.05879850e+00, -8.51531421e-01,  3.33318251e-03,\n",
       "       -8.16433256e-02,  8.37454468e-01, -2.01255375e-01, -6.18500695e-01,\n",
       "        6.44142795e-01,  7.05026407e-01, -5.22082297e-01, -6.21374803e-01,\n",
       "       -8.55007425e-02, -2.28514483e+00,  1.05024905e+00, -7.73881431e-01,\n",
       "        2.84435451e+00,  1.32592795e+00,  1.35642064e+00, -6.34475222e-01,\n",
       "        6.98671810e-03,  1.83818878e+00, -3.73391089e-01, -5.91035537e-01,\n",
       "       -9.59225316e-01, -7.81072465e-01,  1.79426058e-01, -1.19104952e+00,\n",
       "        9.42409383e-01, -9.45620190e-03,  4.34320151e-03,  6.57863641e-01,\n",
       "        7.73644321e-01,  1.40692362e-01,  1.78214055e+00, -5.59131221e-01,\n",
       "        1.15264610e+00, -1.71843580e+00, -1.76185112e+00,  2.77061935e+00,\n",
       "        1.00813813e+00,  6.37353436e-01, -6.85869031e-01,  1.02821129e+00,\n",
       "       -4.45635082e-01, -8.87665933e-01, -5.79694724e-01,  3.19187922e-01,\n",
       "       -1.03402400e+00, -1.61619919e+00, -2.01060930e+00,  3.10333776e-01,\n",
       "        2.12110099e+00,  7.26588614e-01,  4.94991633e-01,  1.20828769e+00,\n",
       "       -6.56274060e-01,  2.06071846e+00, -6.87045697e-02, -1.47054152e-01,\n",
       "       -2.51818456e-01, -3.02636337e-01,  2.12429506e+00, -2.99817223e-01,\n",
       "        2.58126016e-01,  9.12088991e-01, -1.46282779e+00, -1.01949877e+00,\n",
       "        1.17034224e+00,  1.55099115e-01,  5.47352827e-02,  2.17577715e+00,\n",
       "        9.92261072e-01, -2.48980813e+00,  6.64881215e-01,  2.08233977e-01,\n",
       "        9.16619149e-01,  1.31497024e-01,  3.58368574e-03,  7.49087985e-01,\n",
       "        1.92744447e-01, -2.77392339e-01, -6.47508485e-01, -4.35117595e-01,\n",
       "       -8.52160757e-01, -2.89836996e-01, -4.63091859e-01, -9.18178836e-01,\n",
       "       -1.20322471e+00,  1.62898540e+00,  4.75713266e-01,  3.69373219e-01,\n",
       "       -1.58247266e+00, -1.47503790e-01, -3.44017486e-01, -1.09933529e+00,\n",
       "        7.50826313e-01,  4.48093041e-01,  8.91106462e-01, -7.15235104e-02,\n",
       "        9.15014326e-01,  1.99582318e-01, -9.20724244e-01,  5.00093652e-01,\n",
       "        6.37556649e-01,  1.55710667e-01, -7.37127992e-01, -1.02807541e+00,\n",
       "        1.93949336e+00,  1.18729490e+00,  1.16605308e+00,  7.52711638e-01,\n",
       "       -3.61989604e-01,  6.47398762e-01, -1.06090530e+00, -1.23551574e+00,\n",
       "       -3.30367446e-01, -1.43053578e+00, -2.15295659e+00,  1.16041905e+00,\n",
       "        7.54925594e-01,  5.47792722e-01, -1.39060589e+00,  1.18559985e+00,\n",
       "       -3.18575707e-02,  1.05759424e+00, -5.93691874e-01, -3.04267151e-01,\n",
       "       -6.93509136e-01,  1.34536722e+00,  1.08437677e+00,  5.70006238e-02,\n",
       "       -3.01046335e-01, -6.61233956e-01, -5.59424430e-01,  4.76769802e-01,\n",
       "        2.06621711e+00, -1.79773373e+00,  2.82207060e-01, -5.80823813e-01,\n",
       "        1.80608729e+00, -1.38684023e-02, -1.33528547e+00, -1.08523812e+00,\n",
       "       -1.11270332e-01, -1.07199853e+00, -1.04222471e+00, -5.07647713e-01,\n",
       "       -1.33296605e+00, -2.32358282e-01,  1.74260353e+00, -2.59803070e+00,\n",
       "       -5.81198058e-01, -1.64867071e+00,  1.79721059e+00, -1.82865986e+00,\n",
       "        6.68575367e-01, -4.63261162e-01,  9.63337326e-01, -6.56544837e-01,\n",
       "        5.28215151e-01,  3.27914844e-01, -1.11963274e+00, -1.31587521e-01,\n",
       "       -7.66189150e-01,  1.35551051e-01, -1.37881630e+00,  2.85590234e-01,\n",
       "        1.15163867e+00, -7.01290300e-01,  2.77085925e+00, -1.15334605e+00,\n",
       "       -6.06041638e-02, -3.08542529e-01, -3.63628634e-01, -8.18626509e-01,\n",
       "       -1.40571808e+00, -4.49964206e-01, -9.84276903e-01,  1.09175790e+00,\n",
       "       -4.03859775e-01, -1.74289765e+00, -4.27993293e-01, -1.78042428e+00,\n",
       "       -1.20985156e+00,  1.29344974e+00, -6.69876829e-01,  4.52465360e-01,\n",
       "       -1.07595617e-01,  2.88928164e-01, -8.88354180e-01, -1.87090585e+00,\n",
       "       -8.38870330e-01, -1.02473718e-01,  1.10567404e-01, -1.25300560e+00,\n",
       "       -1.01905741e+00,  7.64948903e-01, -4.41711921e-01,  3.66917206e-01,\n",
       "       -2.69210755e+00,  4.99160457e-01, -9.17993811e-01, -1.09603161e+00,\n",
       "        1.84690952e+00, -1.44493609e+00, -1.74918786e+00,  9.77745577e-01,\n",
       "       -3.14077057e-02,  1.47177327e+00,  1.67685821e+00, -7.58311228e-01,\n",
       "       -1.04268179e+00, -1.65415726e+00, -4.39515959e-01, -4.64410931e-01,\n",
       "       -4.66446780e-01,  9.54703969e-01, -7.08741324e-01,  6.95970928e-01,\n",
       "       -1.51358561e+00, -7.51918053e-01,  1.38965771e+00,  7.01618553e-01,\n",
       "        1.10198172e+00, -8.23191184e-01,  1.71760716e-01,  5.85627268e-01,\n",
       "        1.14398625e+00,  2.04663596e-01,  2.65748593e-01,  6.44763775e-01,\n",
       "       -1.29339652e+00,  2.65093189e-01, -4.63550141e-01,  1.40129898e+00,\n",
       "       -7.05793242e-01, -1.36254935e+00,  6.02338693e-01,  1.23978592e-01,\n",
       "        1.43746320e-01,  1.92846950e+00,  6.93226363e-01,  3.10678945e-02,\n",
       "       -6.94498539e-01,  1.04124093e+00,  2.69286263e-01, -2.10806679e-01,\n",
       "       -1.55998214e+00,  1.01800741e+00, -9.18052964e-01, -8.68753203e-01,\n",
       "       -1.85927158e+00, -1.01932261e-01, -4.48558986e-01, -4.25299171e-01,\n",
       "        1.32525040e+00,  7.30682076e-01,  6.18230714e-01, -1.42945845e+00,\n",
       "        3.56204784e-02, -1.28236643e+00, -1.08174666e+00, -2.38574704e-01,\n",
       "       -1.57158215e-01,  1.58138108e+00,  2.20555102e-01,  8.08970563e-01,\n",
       "        8.60277468e-01,  5.96316126e-01,  9.57993421e-01,  1.35533265e-01,\n",
       "        1.56624283e+00, -1.75376957e-01,  4.46745648e-01, -7.75934549e-01,\n",
       "       -1.95211680e-02, -1.71786948e+00,  1.56127831e-01,  1.02945218e+00,\n",
       "       -4.10449049e-01, -8.76929044e-01, -1.73615219e-01,  2.86246086e-01,\n",
       "        1.47977763e+00, -6.99657663e-01, -8.46706196e-01, -1.58425638e+00,\n",
       "       -5.42660281e-01, -2.55260382e-02, -8.02205189e-01,  2.17133119e-01,\n",
       "        1.43288992e+00,  1.69134214e+00,  4.30837219e-02, -6.78540500e-01,\n",
       "       -2.36947025e+00, -7.70574508e-01, -1.17848202e+00,  5.19421134e-01,\n",
       "       -3.11861013e-01, -6.85200216e-01, -9.76424782e-01, -2.89174631e+00,\n",
       "       -9.34986434e-01,  1.36947995e-01,  7.43524202e-01, -1.00974869e-02,\n",
       "       -6.69989388e-01,  1.11565223e-01, -4.74936334e-01, -2.68362516e-01,\n",
       "       -1.86184172e-01, -6.14707720e-01,  1.10079743e+00,  3.83209558e-01,\n",
       "       -1.79194535e-01, -5.01153380e-01, -7.94721289e-01, -8.67870012e-01,\n",
       "        6.86620076e-01,  6.78294660e-01, -1.16862731e+00, -3.17890116e-01,\n",
       "       -1.12781726e-01,  6.80566851e-01, -4.29522453e-01,  1.58123302e-01,\n",
       "       -3.67192009e-02, -1.45227373e+00,  6.56838080e-01, -2.69011797e-01,\n",
       "       -6.11645572e-01, -6.28631525e-01,  8.08520547e-01, -7.25488742e-01,\n",
       "        4.42630691e-01, -8.25148653e-01,  1.60567102e+00, -1.59455028e-01,\n",
       "       -6.39389944e-01, -1.88871188e+00, -4.31683116e-01, -1.13670776e-01,\n",
       "        2.72694430e-01, -9.20060030e-01, -6.35515599e-01, -2.10021506e-01,\n",
       "        6.96306413e-02,  8.42131262e-02, -1.19720505e-01,  6.27549952e-01,\n",
       "       -1.10880218e+00,  7.42586582e-01,  6.88598918e-01, -1.68205002e+00,\n",
       "       -7.26340145e-01, -1.12805183e+00, -9.03270365e-01, -1.78369798e+00,\n",
       "        2.05046797e-01, -5.43016463e-01, -4.04691104e-01,  6.82976144e-01,\n",
       "       -9.16225040e-01,  5.78946216e-02,  2.43241602e-01,  1.25739576e-02,\n",
       "       -4.10152047e-01, -2.15845620e+00,  5.68587466e-01, -1.54984340e+00,\n",
       "       -1.26366085e-01,  7.79226420e-01,  1.77698186e-01, -2.95769024e-01,\n",
       "        5.15965831e-01,  4.26332728e-01, -1.09385762e+00,  1.31613245e-02,\n",
       "        1.80634742e+00,  1.04959736e+00,  1.00519020e+00,  9.06525761e-01,\n",
       "       -8.45212003e-01, -4.65386875e-01, -3.58471635e-01,  6.16467502e-01,\n",
       "        2.25729501e+00,  3.99412959e-01,  1.45166056e+00, -1.16973229e+00,\n",
       "       -5.38054419e-01, -1.74487074e+00, -4.55990115e-01, -9.94219793e-01,\n",
       "        9.08443698e-01,  4.79268722e-01,  9.56768266e-01, -5.27068906e-01,\n",
       "       -5.30210052e-01,  8.99761589e-01, -1.13059591e+00,  7.98370012e-01,\n",
       "       -1.81832779e+00,  4.16760823e-02, -7.77527575e-03, -8.02802995e-02,\n",
       "       -1.17568657e+00,  9.78853849e-01,  1.54664529e-01, -1.23574459e+00,\n",
       "        1.19142214e+00, -5.31452005e-02, -1.29091258e-01, -8.17740955e-02,\n",
       "       -9.34300169e-01,  1.31412860e+00,  1.71141055e+00,  1.34314699e-01,\n",
       "       -1.33313174e-01, -2.00268937e+00,  3.65751606e-01, -1.05339403e+00,\n",
       "       -7.01958975e-01,  9.34454749e-01,  7.49758702e-01, -3.14939344e-01,\n",
       "       -5.13932715e-01, -7.85643318e-01,  4.47781478e-01, -1.91866081e+00,\n",
       "       -3.76253700e-01, -1.17008392e+00,  8.43895767e-01, -1.42144623e-01,\n",
       "       -6.65707180e-01, -2.11923130e+00,  8.97181474e-01,  2.78609552e-01,\n",
       "       -1.97849714e-01,  1.13644928e-02,  7.55408306e-01,  1.47413108e-01,\n",
       "        8.23673862e-01, -1.02329464e+00,  1.64590616e+00, -9.38033689e-01,\n",
       "        9.69385235e-02, -1.06031697e-01, -2.00427904e+00, -2.41054241e-01,\n",
       "        9.23976686e-01,  1.98639730e-03,  2.45194186e-01, -3.43395854e-01,\n",
       "       -1.92612451e+00, -1.45922068e-01, -7.17808942e-01,  8.52070300e-01,\n",
       "       -8.71456924e-01,  1.04740839e+00, -9.83099268e-01,  3.28524867e-01,\n",
       "       -6.91225359e-01, -1.42911974e+00, -1.64871955e+00, -1.03602188e+00,\n",
       "        1.11556661e-01, -2.76676739e-01,  1.91108300e-01,  3.76322701e-01,\n",
       "        1.09021127e+00,  5.84943549e-01, -6.47270010e-01, -1.59038832e+00,\n",
       "        7.52364785e-01, -1.61177151e-01, -7.39689520e-01,  1.18617513e+00,\n",
       "       -1.10178310e+00, -9.24786973e-01,  4.93857085e-03,  9.35975153e-01,\n",
       "       -1.62243154e+00,  9.84549689e-01,  8.91546510e-02,  2.42802103e-01,\n",
       "        1.12172856e+00,  4.43003789e-01, -4.79104987e-01, -7.80392260e-01,\n",
       "        4.98976414e-02, -1.16021904e+00,  3.25216290e-01, -2.70437611e+00,\n",
       "       -1.20279255e+00,  5.12137348e-01, -4.74130088e-01,  1.08966023e+00,\n",
       "       -1.03004342e+00, -1.02848302e+00, -1.88959468e+00,  1.75443151e+00,\n",
       "       -3.09366173e-01,  5.98097425e-01, -7.33879368e-01, -1.02495223e+00,\n",
       "       -1.43337686e-01,  2.34418206e-01, -1.39117429e+00, -5.18674496e-01,\n",
       "        8.53187270e-02,  6.98976978e-01,  2.71962628e+00, -8.65968748e-01,\n",
       "        8.27798266e-02,  1.63137903e+00, -8.65789057e-01, -6.87084779e-01,\n",
       "       -7.34757167e-02,  5.48739478e-01, -1.10341484e+00,  6.44619566e-01,\n",
       "        1.23749354e+00,  8.05287407e-01,  1.59936756e-01,  1.42709537e+00,\n",
       "       -1.11418085e-01, -8.55624079e-01,  1.76606553e+00, -5.16338437e-02,\n",
       "       -1.00128246e+00,  7.71528205e-01, -2.33855157e+00, -1.28693861e+00,\n",
       "       -4.97993100e-01,  7.90198130e-01, -1.59600368e+00, -1.90532376e-01,\n",
       "        1.61442463e+00,  1.77946445e-01,  2.73792289e-01, -5.68867300e-01,\n",
       "       -1.46796263e+00,  3.32549621e-01,  4.87586425e-01, -1.09395420e+00,\n",
       "        7.01200659e-01,  1.09584616e-01, -3.24945691e-02,  4.11090900e-03,\n",
       "        1.52517187e+00, -8.40505144e-02,  1.00374169e+00, -1.62525313e-01,\n",
       "        2.31042954e-01,  5.84934559e-01,  3.14965130e-01, -2.28619620e-01,\n",
       "        1.93848095e+00,  1.18698327e+00, -1.65376107e-01,  1.54644717e+00,\n",
       "       -4.33830572e-01,  1.70833681e+00, -1.04997036e+00,  2.28831919e-01,\n",
       "        2.89459848e-01, -2.56393437e+00,  4.76451627e-01,  5.66468784e-01,\n",
       "       -8.87250869e-04,  6.71194549e-01, -3.15253857e-01, -9.72482846e-01,\n",
       "       -4.41629888e-01,  1.11646491e+00,  5.03634347e-01, -9.03592087e-01,\n",
       "       -8.64772675e-01,  3.91715320e-01, -7.53380721e-01, -8.22469805e-01,\n",
       "        7.63153524e-03,  1.65919585e+00, -3.78399597e-01, -1.03596306e-01,\n",
       "        6.99428889e-01,  1.47350521e+00,  1.20281512e+00,  4.66172541e-01,\n",
       "       -2.74682008e-01,  3.71272493e-02,  6.67058991e-01, -9.87961551e-02,\n",
       "        1.73148147e+00,  1.53366643e+00, -2.27632583e-01,  8.26949649e-01,\n",
       "       -6.74904064e-01,  1.18406204e+00, -1.12924992e-01,  1.61780405e+00,\n",
       "       -4.44923923e-01, -4.42537500e-01,  2.40938717e-01, -9.14222444e-01,\n",
       "       -7.45360141e-01, -6.71475444e-01,  9.14201410e-02,  1.70266161e+00,\n",
       "       -1.70237193e-01, -3.72972384e-01, -1.46019250e+00, -2.84502341e-02,\n",
       "        1.04960514e+00,  2.08601636e+00,  5.20173234e-04,  7.37017724e-01,\n",
       "        9.12864395e-01,  9.55439448e-01,  1.78049112e+00, -7.65135238e-01,\n",
       "        9.66222682e-01,  1.25065016e+00, -1.43336983e+00, -5.66569611e-01,\n",
       "       -1.40162910e+00, -1.61608158e+00,  1.07876119e+00, -3.50466428e-01,\n",
       "       -7.47213975e-01, -2.14729967e+00,  1.07199822e+00, -1.08286452e-01,\n",
       "        5.30852241e-01,  4.54541814e-01, -5.43657983e-01, -2.06940309e+00,\n",
       "       -2.84580502e-01,  1.17806142e-01,  1.41519860e+00,  1.67769580e+00,\n",
       "       -1.38436609e+00, -1.18898316e+00, -2.23285381e-01,  4.23024849e-01,\n",
       "        2.27025704e-01,  1.48374568e+00,  9.91670749e-02,  3.88879164e-01,\n",
       "        1.62178481e+00,  4.43377184e-01, -8.20519834e-01, -5.51393531e-01,\n",
       "        1.88130302e+00, -1.08496005e+00, -2.16931639e-01,  4.99185637e-01,\n",
       "       -5.85244884e-02,  7.69501371e-01,  1.97255939e+00,  1.28875575e+00,\n",
       "        4.47112072e-01, -9.16865816e-01, -1.13865321e+00,  1.02764334e+00,\n",
       "       -1.47646577e-01,  3.86072723e-01, -2.04158287e+00,  1.71009836e-01,\n",
       "       -4.88314762e-01,  1.98445965e-01,  6.78948054e-02, -6.84833876e-01,\n",
       "        5.08139037e-01,  2.54456042e-01, -2.96189249e-01, -4.87556269e-01,\n",
       "        1.68265927e+00,  9.35139358e-01, -8.27419377e-02,  1.19255462e+00,\n",
       "        1.02665701e-01, -1.76343862e-03,  2.10739528e+00, -3.28966638e-01,\n",
       "        1.03614892e+00, -1.15523772e+00, -3.20011374e-01, -2.85218641e-01,\n",
       "        6.70609248e-02,  1.68970409e+00,  1.80651660e+00, -4.28414380e-01,\n",
       "       -4.33899309e-01, -8.23334060e-02,  1.32565010e+00, -7.30167522e-01,\n",
       "       -1.62907339e+00,  1.21041610e+00, -6.57573085e-01,  7.62068525e-01,\n",
       "       -1.91491863e-01, -7.80066105e-01,  1.39386612e+00, -7.75483312e-01,\n",
       "        1.05655819e+00, -1.35627270e-01,  1.36555378e+00,  1.06013788e+00,\n",
       "       -2.22957904e-01, -2.70301757e-01, -6.89884387e-02, -2.87522151e-01,\n",
       "        1.44042299e-01,  6.49416170e-01,  8.80567878e-01,  1.47995139e+00,\n",
       "        1.36523441e+00, -1.11164137e+00,  4.29863486e-01, -8.87555630e-01,\n",
       "       -2.80574189e-01, -1.70425219e+00, -6.25633413e-01, -7.89624380e-01,\n",
       "        1.25926806e+00,  8.81838274e-01,  8.31249522e-01,  1.53880132e-01,\n",
       "        2.06935335e-01,  3.82788102e-01,  1.03998104e+00,  9.42733241e-01,\n",
       "        8.88263745e-01,  5.91536051e-01,  1.52849841e-01,  1.04114907e-01,\n",
       "       -6.63198990e-02,  7.69627465e-01, -4.04530212e-01,  7.68585641e-01,\n",
       "        2.42890570e+00, -1.98158718e+00,  5.93958360e-01, -5.20710059e-01,\n",
       "        1.58064729e+00,  1.28429703e+00,  5.61764397e-01,  1.80131439e+00,\n",
       "       -1.63928100e-01,  5.52243282e-02,  1.01724388e+00,  1.79921865e+00,\n",
       "        1.91247246e-01, -6.73411769e-02, -2.31469992e+00, -1.44418808e+00,\n",
       "       -3.99913442e-01, -1.20522390e-01,  1.84931920e+00,  4.70581423e-01,\n",
       "        5.50721975e-01,  2.57023106e-01, -8.82748345e-01,  3.65238973e-01,\n",
       "        2.01768274e+00, -6.66698075e-01,  6.15361664e-01, -6.93646533e-01,\n",
       "       -7.75800169e-01,  2.97683023e-01,  1.70516391e+00,  4.88972905e-01,\n",
       "        2.07622116e+00, -5.08130840e-01,  5.79589005e-01,  6.91274354e-01,\n",
       "        2.83854224e-01, -7.01277196e-01,  9.66935886e-01, -5.61720670e-01,\n",
       "        1.10003342e+00,  3.56017593e-01, -2.59166716e+00,  1.29766664e+00,\n",
       "        5.60101523e-01, -4.59369054e-02,  9.94666375e-01, -1.17389078e+00,\n",
       "        1.14833223e-01,  3.13981535e-01,  3.33230698e-01, -1.25222754e+00,\n",
       "        2.24168879e-01,  6.66581853e-01,  5.20962010e-01,  3.53823779e-01,\n",
       "        1.30383207e+00, -1.27067114e+00, -4.19598302e-01, -1.10751319e+00,\n",
       "        1.11871993e+00, -2.27564231e+00,  1.06272159e+00, -1.64148264e+00,\n",
       "       -8.93706457e-01,  1.28291127e+00, -4.05100581e-01, -9.99670417e-01,\n",
       "       -2.07566844e+00, -1.31809822e+00,  5.71940310e-01, -7.82704429e-02,\n",
       "        1.58044448e-01, -6.60399015e-02, -2.36610662e-01,  3.70026160e-01,\n",
       "       -2.61614681e-01, -3.40363854e-01, -2.87701460e-01, -1.31364664e+00,\n",
       "       -4.53114949e-01, -5.87347051e-01,  3.44707587e-01, -1.31894521e-01,\n",
       "        8.35749318e-02, -6.00220823e-02,  4.71771338e-01, -1.34838026e+00,\n",
       "        1.67445677e+00, -2.70052188e+00,  4.16710970e-01, -1.07008117e+00,\n",
       "       -1.01574388e-01,  3.33551766e-01,  6.80690423e-01,  5.29886864e-01,\n",
       "        1.22420613e+00,  9.87564856e-02,  1.64709920e+00, -3.15696180e-01,\n",
       "       -6.59197550e-01, -5.32534805e-01,  7.14013589e-01,  1.24988251e-01,\n",
       "        1.40966218e+00, -7.96734120e-01,  3.30898099e-01,  4.05808861e-01,\n",
       "        8.79022425e-02,  3.07992679e-01, -3.47582318e-01, -6.08794014e-01,\n",
       "        4.19364665e-01, -1.07334520e-02,  1.14280251e-02, -8.69271647e-01,\n",
       "       -1.55310812e-01,  9.21249872e-01,  3.42420576e-02,  8.12036334e-01,\n",
       "       -1.67908631e+00, -2.19238825e-01, -1.63284907e+00, -2.37070011e-01,\n",
       "        1.04440123e+00,  2.96795606e-01,  4.28227062e-02, -8.26089029e-01,\n",
       "       -6.47671474e-01,  8.14779594e-01,  1.10769634e+00,  6.25456594e-01,\n",
       "        1.79027938e+00,  9.18407383e-01, -4.29639424e-01, -8.26812250e-02,\n",
       "        1.09167129e+00, -1.85703374e+00, -6.66142976e-01, -5.08791390e-01,\n",
       "        3.80032528e-01,  5.70637178e-02, -8.28029293e-01, -1.73566421e+00,\n",
       "        1.40443823e+00, -1.03641820e+00, -2.03934265e+00, -5.08992518e-01,\n",
       "        1.29322313e+00,  7.32040556e-02,  6.34460710e-01,  7.25973875e-01,\n",
       "       -5.14274406e-01, -1.07803090e-01,  1.27422436e-01, -3.39535479e-01,\n",
       "        1.29987857e+00, -9.59161084e-01,  5.90947056e-01,  1.16136140e-01,\n",
       "        1.26344481e+00,  8.61257757e-01,  8.53486736e-01, -1.08824727e+00,\n",
       "       -1.23539115e+00,  1.25981542e-01,  9.37381133e-01, -1.16176765e+00,\n",
       "        1.67234612e+00, -8.73173596e-01,  4.71931494e-01, -4.15602495e-01,\n",
       "       -1.09519303e-01,  6.95101257e-01, -1.05151562e-03,  7.62512101e-01,\n",
       "        2.39317080e+00, -1.02387470e+00, -7.33163768e-03,  4.24107294e-01,\n",
       "       -7.34250012e-01,  4.59851653e-01,  5.39240141e-01, -8.57569332e-01,\n",
       "       -6.62022930e-01, -6.10820420e-01,  4.11361513e-01, -6.11612686e-01,\n",
       "        6.40099671e-01, -5.84347119e-01,  9.63220757e-01, -3.14398934e-01,\n",
       "        3.64819637e-01,  2.79881369e-01, -1.76296032e+00, -2.21548586e-01,\n",
       "        3.01677384e+00,  9.22275699e-01,  1.55536352e+00,  1.91433443e-01,\n",
       "        5.22109711e-01,  7.18095244e-01, -1.07190254e+00, -1.79422833e-01,\n",
       "       -1.87217105e+00, -7.00829090e-01, -1.30319880e-01, -3.56539299e-01,\n",
       "       -1.94171425e-01,  4.97183137e-02, -3.04580607e-01,  1.75871398e+00,\n",
       "        1.41270856e-01, -1.94791170e+00,  1.10830991e-01, -1.96714464e+00,\n",
       "       -6.49251285e-01, -1.76144993e+00, -1.09958686e-01,  1.20992632e+00,\n",
       "        3.10286958e-01, -3.87335879e-01,  5.02847447e-01, -6.46325469e-01,\n",
       "       -1.33630567e+00,  2.37004244e+00, -4.66085992e-01, -1.65073933e-01,\n",
       "       -3.74113157e-01, -5.55406131e-01,  1.68154103e+00,  2.78812153e-02,\n",
       "        1.33632115e+00,  7.03548650e-01,  6.19612161e-01,  1.30498940e+00,\n",
       "       -1.53118073e+00,  1.21891711e-01,  3.79358588e-01,  1.40441064e-02])"
      ]
     },
     "execution_count": 36,
     "metadata": {},
     "output_type": "execute_result"
    }
   ],
   "source": [
    "np.random.normal(0,1,1000)"
   ]
  },
  {
   "cell_type": "markdown",
   "metadata": {},
   "source": [
    "## Question 11\n",
    "\n",
    "Generate binomial distribution data for fair coin flipping of size 100. Assume `0` for head and `1` for tail.\n",
    "\n",
    "[ **Hint:** For fair coin flip `p=0.5` ]"
   ]
  },
  {
   "cell_type": "markdown",
   "metadata": {},
   "source": [
    "#### Binomial Distribution"
   ]
  },
  {
   "cell_type": "markdown",
   "metadata": {},
   "source": [
    "It is defined by 2 parameters: the probability of success and the number of trails. It tells about how likely it is possible to get a given number of successes in n trails."
   ]
  },
  {
   "cell_type": "code",
   "execution_count": 37,
   "metadata": {},
   "outputs": [
    {
     "data": {
      "text/plain": [
       "array([54, 48, 46, 54, 47, 62, 43, 53, 46, 51, 42, 47, 48, 49, 51, 56, 56,\n",
       "       49, 50, 51, 46, 62, 57, 41, 57, 54, 51, 57, 50, 48, 55, 46, 49, 44,\n",
       "       62, 53, 55, 53, 51, 48, 51, 55, 55, 48, 49, 57, 54, 53, 48, 57, 53,\n",
       "       39, 43, 58, 45, 58, 50, 45, 52, 51, 47, 45, 51, 48, 51, 49, 54, 54,\n",
       "       54, 51, 54, 52, 54, 54, 55, 52, 56, 55, 48, 50, 45, 41, 49, 36, 60,\n",
       "       48, 60, 49, 51, 54, 54, 52, 58, 44, 57, 42, 51, 41, 47, 49])"
      ]
     },
     "execution_count": 37,
     "metadata": {},
     "output_type": "execute_result"
    }
   ],
   "source": [
    "np.random.binomial(100, 0.5, 100)"
   ]
  },
  {
   "cell_type": "markdown",
   "metadata": {},
   "source": [
    "#### Visualizing Poisson Distribution"
   ]
  },
  {
   "cell_type": "markdown",
   "metadata": {},
   "source": [
    "It models the probability of seeing certain number of successes within a time interval."
   ]
  },
  {
   "cell_type": "code",
   "execution_count": 133,
   "metadata": {},
   "outputs": [
    {
     "data": {
      "image/png": "[encoded data removed]",
      "text/plain": [
       "<matplotlib.figure.Figure at 0x7f7c10ffbe90>"
      ]
     },
     "metadata": {},
     "output_type": "display_data"
    }
   ],
   "source": [
    "poisson_data = stats.poisson.rvs(size=100,mu=10)\n",
    "\n",
    "pd.DataFrame(poisson_data).hist()\n",
    "\n",
    "plt.show()"
   ]
  }
 ],
 "metadata": {
  "kernelspec": {
   "display_name": "Python 3",
   "language": "python",
   "name": "python3"
  },
  "language_info": {
   "codemirror_mode": {
    "name": "ipython",
    "version": 3
   },
   "file_extension": ".py",
   "mimetype": "text/x-python",
   "name": "python",
   "nbconvert_exporter": "python",
   "pygments_lexer": "ipython3",
   "version": "3.6.5"
  }
 },
 "nbformat": 4,
 "nbformat_minor": 2
}
